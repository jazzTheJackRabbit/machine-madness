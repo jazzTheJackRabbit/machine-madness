{
 "cells": [
  {
   "cell_type": "code",
   "execution_count": 89,
   "metadata": {
    "collapsed": false
   },
   "outputs": [],
   "source": [
    "from sklearn.ensemble import RandomForestClassifier\n",
    "from sklearn.linear_model  import LogisticRegression,LinearRegression\n",
    "from sklearn.metrics import accuracy_score, classification_report\n",
    "import pandas as pd\n",
    "import numpy as np"
   ]
  },
  {
   "cell_type": "code",
   "execution_count": 198,
   "metadata": {
    "collapsed": false
   },
   "outputs": [],
   "source": [
    "ROOT_DIR = \"../../\"\n",
    "dataset = pd.read_csv(ROOT_DIR+\"data/structured/training_data_match_statistics.csv\")\n",
    "dataset = dataset.drop(dataset.columns[0],axis=1)\n",
    "\n",
    "# classifier = RandomForestClassifier(n_estimators=200)\n",
    "classifier = LogisticRegression(C=1e6)\n",
    "# classifier = LinearRegression()"
   ]
  },
  {
   "cell_type": "code",
   "execution_count": 200,
   "metadata": {
    "collapsed": false
   },
   "outputs": [],
   "source": [
    "def getPredictionsFromClassifier(classifier,dataset):\n",
    "    # Training\n",
    "    training_data = dataset[dataset.season != 2014]\n",
    "    testing_data = dataset[dataset.season == 2014]\n",
    "\n",
    "    #Preprocess/Filter Data here\n",
    "\n",
    "    training_X = training_data[training_data.columns[1:len(training_data.columns)-1]].fillna(0)\n",
    "    training_Y = training_data[training_data.columns[-1]]\n",
    "\n",
    "    testing_X = testing_data[testing_data.columns[1:len(testing_data.columns)-1]].fillna(0)\n",
    "    testing_Y = testing_data[testing_data.columns[-1]]\n",
    "    classifier.fit(training_X,training_Y)\n",
    "    predicted_Y = classifier.predict(testing_X)\n",
    "\n",
    "    print(classification_report(predicted_Y.round().astype(int),testing_Y))\n",
    "    print(accuracy_score(predicted_Y.round().astype(int),testing_Y))\n",
    "\n",
    "    return predicted_Y"
   ]
  },
  {
   "cell_type": "code",
   "execution_count": 209,
   "metadata": {
    "collapsed": false
   },
   "outputs": [
    {
     "name": "stdout",
     "output_type": "stream",
     "text": [
      "             precision    recall  f1-score   support\n",
      "\n",
      "          0       0.66      0.58      0.62        43\n",
      "          1       0.38      0.46      0.42        24\n",
      "\n",
      "avg / total       0.56      0.54      0.54        67\n",
      "\n",
      "0.537313432836\n"
     ]
    }
   ],
   "source": [
    "classifier = RandomForestClassifier()\n",
    "predicted_Y = getPredictionsFromClassifier(classifier,dataset)"
   ]
  },
  {
   "cell_type": "code",
   "execution_count": 266,
   "metadata": {
    "collapsed": false
   },
   "outputs": [
    {
     "name": "stdout",
     "output_type": "stream",
     "text": [
      "             precision    recall  f1-score   support\n",
      "\n",
      "          0       0.68      0.67      0.68        39\n",
      "          1       0.55      0.57      0.56        28\n",
      "\n",
      "avg / total       0.63      0.63      0.63        67\n",
      "\n",
      "0.626865671642\n",
      "Empty DataFrame\n",
      "Columns: []\n",
      "Index: []\n"
     ]
    }
   ],
   "source": [
    "def getPredictionsFromClassifier(classifier,dataset):\n",
    "    # Training\n",
    "    training_data = dataset[dataset.season != 2014]\n",
    "    testing_data = dataset[dataset.season == 2014]\n",
    "\n",
    "    #Preprocess/Filter Data here\n",
    "\n",
    "    training_X = training_data[training_data.columns[1:len(training_data.columns)-1]].fillna(0)\n",
    "    training_Y = training_data[training_data.columns[-1]]\n",
    "\n",
    "    testing_X = testing_data[testing_data.columns[1:len(testing_data.columns)-1]].fillna(0)\n",
    "    testing_Y = testing_data[testing_data.columns[-1]]\n",
    "    classifier.fit(training_X,training_Y)\n",
    "    predicted_Y = classifier.predict(testing_X)\n",
    "\n",
    "    print(classification_report(predicted_Y.round().astype(int),testing_Y))\n",
    "    print(accuracy_score(predicted_Y.round().astype(int),testing_Y))\n",
    "\n",
    "    return predicted_Y\n",
    "\n",
    "def classNameForClassifier(classifier):\n",
    "    class_name = str(classifier.__class__)\n",
    "    class_name = class_name[class_name.rfind(\".\")+1:class_name.rfind(\"'>\")]\n",
    "    return class_name\n",
    "\n",
    "dataset = pd.read_csv(ROOT_DIR+\"data/structured/training_data_match_statistics.csv\")\n",
    "dataset = dataset.drop(dataset.columns[0],axis=1)\n",
    "\n",
    "classifiers = []\n",
    "predictions = pd.DataFrame()\n",
    "\n",
    "classifier = RandomForestClassifier()\n",
    "predicted_Y = getPredictionsFromClassifier(classifier,dataset)\n",
    "addPredictionAndClassifierToList(classifiers,predictions,classifier,predicted_Y)\n",
    "\n",
    "# classifier = LinearRegression()\n",
    "# predicted_Y = getPredictionsFromClassifier(classifier,dataset)\n",
    "\n",
    "# classifier = LogisticRegression(penalty=\"l2\",C=1e-6)\n",
    "# predicted_Y = getPredictionsFromClassifier(classifier,dataset)\n",
    "\n",
    "# class_name = classNameForClassifier(classifier)\n",
    "# prediction = pd.DataFrame(predicted_Y,columns=[class_name])"
   ]
  },
  {
   "cell_type": "code",
   "execution_count": 265,
   "metadata": {
    "collapsed": false
   },
   "outputs": [],
   "source": [
    "def addPredictionAndClassifierToList(classifiers,predictions,classifier,predicted_Y):\n",
    "    class_name = classNameForClassifier(classifier)\n",
    "    prediction = pd.DataFrame(predicted_Y,columns=[class_name])\n",
    "    classifiers.append(classifier)\n",
    "    predicitions = pd.concat([predictions,prediction],axis=1)\n",
    "    print(predictions)"
   ]
  },
  {
   "cell_type": "code",
   "execution_count": 262,
   "metadata": {
    "collapsed": false
   },
   "outputs": [
    {
     "data": {
      "text/html": [
       "<div style=\"max-height:1000px;max-width:1500px;overflow:auto;\">\n",
       "<table border=\"1\" class=\"dataframe\">\n",
       "  <thead>\n",
       "    <tr style=\"text-align: right;\">\n",
       "      <th></th>\n",
       "    </tr>\n",
       "  </thead>\n",
       "  <tbody>\n",
       "  </tbody>\n",
       "</table>\n",
       "</div>"
      ],
      "text/plain": [
       "Empty DataFrame\n",
       "Columns: []\n",
       "Index: []"
      ]
     },
     "execution_count": 262,
     "metadata": {},
     "output_type": "execute_result"
    }
   ],
   "source": [
    "predictions"
   ]
  },
  {
   "cell_type": "code",
   "execution_count": null,
   "metadata": {
    "collapsed": false
   },
   "outputs": [],
   "source": []
  },
  {
   "cell_type": "code",
   "execution_count": 242,
   "metadata": {
    "collapsed": false
   },
   "outputs": [],
   "source": []
  },
  {
   "cell_type": "code",
   "execution_count": 252,
   "metadata": {
    "collapsed": false
   },
   "outputs": [],
   "source": []
  },
  {
   "cell_type": "code",
   "execution_count": null,
   "metadata": {
    "collapsed": false
   },
   "outputs": [],
   "source": []
  },
  {
   "cell_type": "code",
   "execution_count": null,
   "metadata": {
    "collapsed": true
   },
   "outputs": [],
   "source": []
  }
 ],
 "metadata": {
  "kernelspec": {
   "display_name": "Python 2",
   "language": "python",
   "name": "python2"
  },
  "language_info": {
   "codemirror_mode": {
    "name": "ipython",
    "version": 2
   },
   "file_extension": ".py",
   "mimetype": "text/x-python",
   "name": "python",
   "nbconvert_exporter": "python",
   "pygments_lexer": "ipython2",
   "version": "2.7.9"
  }
 },
 "nbformat": 4,
 "nbformat_minor": 0
}
