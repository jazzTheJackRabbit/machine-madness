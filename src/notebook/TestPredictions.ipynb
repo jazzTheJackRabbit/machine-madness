{
 "cells": [
  {
   "cell_type": "code",
   "execution_count": 89,
   "metadata": {
    "collapsed": false
   },
   "outputs": [],
   "source": [
    "from sklearn.ensemble import RandomForestClassifier\n",
    "from sklearn.linear_model  import LogisticRegression,LinearRegression\n",
    "from sklearn.metrics import accuracy_score, classification_report\n",
    "import pandas as pd\n",
    "import numpy as np"
   ]
  },
  {
   "cell_type": "code",
   "execution_count": 198,
   "metadata": {
    "collapsed": false
   },
   "outputs": [],
   "source": [
    "ROOT_DIR = \"../../\"\n",
    "dataset = pd.read_csv(ROOT_DIR+\"data/structured/training_data_match_statistics.csv\")\n",
    "dataset = dataset.drop(dataset.columns[0],axis=1)\n",
    "\n",
    "# classifier = RandomForestClassifier(n_estimators=200)\n",
    "classifier = LogisticRegression(C=1e6)\n",
    "# classifier = LinearRegression()"
   ]
  },
  {
   "cell_type": "code",
   "execution_count": 199,
   "metadata": {
    "collapsed": false
   },
   "outputs": [
    {
     "name": "stdout",
     "output_type": "stream",
     "text": [
      "             precision    recall  f1-score   support\n",
      "\n",
      "          0       0.55      0.70      0.62        30\n",
      "          1       0.69      0.54      0.61        37\n",
      "\n",
      "avg / total       0.63      0.61      0.61        67\n",
      "\n",
      "0.611940298507\n"
     ]
    }
   ],
   "source": [
    "training_data = dataset[dataset.season != 2014]\n",
    "testing_data = dataset[dataset.season == 2014]\n",
    "\n",
    "#Preprocess/Filter Data here\n",
    "\n",
    "training_X = training_data[training_data.columns[1:len(training_data.columns)-1]].fillna(0)\n",
    "training_Y = training_data[training_data.columns[-1]]\n",
    "\n",
    "testing_X = testing_data[testing_data.columns[1:len(testing_data.columns)-1]].fillna(0)\n",
    "testing_Y = testing_data[testing_data.columns[-1]]\n",
    "\n",
    "# Training\n",
    "classifier.fit(training_X,training_Y)\n",
    "predicted_Y = classifier.predict(testing_X)\n",
    "\n",
    "print(classification_report(predicted_Y.round().astype(int),testing_Y))\n",
    "print(accuracy_score(predicted_Y.round().astype(int),testing_Y))"
   ]
  }
 ],
 "metadata": {
  "kernelspec": {
   "display_name": "Python 2",
   "language": "python",
   "name": "python2"
  },
  "language_info": {
   "codemirror_mode": {
    "name": "ipython",
    "version": 2
   },
   "file_extension": ".py",
   "mimetype": "text/x-python",
   "name": "python",
   "nbconvert_exporter": "python",
   "pygments_lexer": "ipython2",
   "version": "2.7.9"
  }
 },
 "nbformat": 4,
 "nbformat_minor": 0
}
