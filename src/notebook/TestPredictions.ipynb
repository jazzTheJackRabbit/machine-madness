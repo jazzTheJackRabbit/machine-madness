{
 "cells": [
  {
   "cell_type": "code",
   "execution_count": 270,
   "metadata": {
    "collapsed": false
   },
   "outputs": [],
   "source": [
    "from sklearn.ensemble import RandomForestClassifier, AdaBoostRegressor, GradientBoostingRegressor, RandomForestRegressor\n",
    "from sklearn.linear_model import LogisticRegression,LinearRegression, SGDClassifier\n",
    "from sklearn.metrics import accuracy_score, classification_report\n",
    "from sklearn import svm, grid_search\n",
    "import pandas as pd\n",
    "import numpy as np"
   ]
  },
  {
   "cell_type": "code",
   "execution_count": 271,
   "metadata": {
    "collapsed": false
   },
   "outputs": [],
   "source": [
    "ROOT_DIR = \"../../\"\n",
    "dataset = pd.read_csv(ROOT_DIR+\"data/structured/training_data_match_statistics.csv\")\n",
    "dataset = dataset.drop(dataset.columns[0],axis=1)"
   ]
  },
  {
   "cell_type": "code",
   "execution_count": 34,
   "metadata": {
    "collapsed": false
   },
   "outputs": [
    {
     "name": "stdout",
     "output_type": "stream",
     "text": [
      "             precision    recall  f1-score   support\n",
      "\n",
      "          0       0.61      0.72      0.66        32\n",
      "          1       0.69      0.57      0.62        35\n",
      "\n",
      "avg / total       0.65      0.64      0.64        67\n",
      "\n",
      "0.641791044776\n"
     ]
    }
   ],
   "source": [
    "from sklearn.ensemble import RandomForestClassifier, AdaBoostRegressor, GradientBoostingRegressor, RandomForestRegressor\n",
    "from sklearn.linear_model import LogisticRegression,LinearRegression, SGDClassifier\n",
    "from sklearn.metrics import accuracy_score, classification_report\n",
    "from sklearn import svm, grid_search\n",
    "import pandas as pd\n",
    "import numpy as np\n",
    "\n",
    "# \n",
    "# Creates MATCH statistics for all tournament matches in a season (for all seasons)\n",
    "# \n",
    "\n",
    "ROOT_DIR = \"../../\"\n",
    "dataset = pd.read_csv(ROOT_DIR+\"data/structured/training_data_match_statistics.csv\")\n",
    "dataset = dataset.drop(dataset.columns[0],axis=1)\n",
    "\n",
    "def getPredictionsFromClassifier(classifier,training_X,training_Y,testing_X,testing_Y):\n",
    "    # Training    \n",
    "    classifier.fit(training_X,np.ravel(training_Y))\n",
    "    predicted_Y = classifier.predict(testing_X)\n",
    "    predicted_probabilities_Y = classifier.predict_proba(testing_X)[:,0]\n",
    "\n",
    "#     print(classification_report(predicted_Y.round().astype(int),testing_Y))\n",
    "#     print(accuracy_score(predicted_Y.round().astype(int),testing_Y))\n",
    "\n",
    "    return predicted_Y,predicted_probabilities_Y\n",
    "\n",
    "def classNameForClassifier(classifier):\n",
    "    class_name = str(classifier.__class__)\n",
    "    class_name = class_name[class_name.rfind(\".\")+1:class_name.rfind(\"'>\")]\n",
    "    return class_name\n",
    "\n",
    "def addPredictionAndClassifierToList(prediction_probabilities_for_winning,classifier,predicted_probabilities_Y):\n",
    "    class_name = classNameForClassifier(classifier)\n",
    "    prediction = pd.DataFrame(predicted_probabilities_Y,columns=[class_name])\n",
    "    prediction_probabilities_for_winning = pd.concat([prediction_probabilities_for_winning,prediction],axis=1)\n",
    "    return prediction_probabilities_for_winning\n",
    "\n",
    "# Dataset Partitioning\n",
    "dataset = pd.read_csv(ROOT_DIR+\"data/structured/training_data_match_statistics.csv\")\n",
    "dataset = dataset.drop(dataset.columns[0],axis=1)\n",
    "\n",
    "training_data = dataset[(dataset.season != 2014) & (dataset.season > 2014-4)]\n",
    "testing_data = dataset[dataset.season == 2014]\n",
    "\n",
    "#Preprocess/Filter Data here\n",
    "training_X = training_data[training_data.columns[1:len(training_data.columns)-1]].fillna(0)\n",
    "training_Y = training_data[training_data.columns[-1]]\n",
    "\n",
    "testing_X = testing_data[testing_data.columns[1:len(testing_data.columns)-1]].fillna(0)\n",
    "testing_Y = testing_data[testing_data.columns[-1]]\n",
    "\n",
    "testing_X = training_X\n",
    "testing_Y = training_Y\n",
    "\n",
    "classifiers = [RandomForestClassifier(),LogisticRegression()]\n",
    "prediction_probabilities_for_winning = pd.DataFrame()\n",
    "\n",
    "for classifier in classifiers:\n",
    "    predicted_Y, predicted_probabilities_Y = getPredictionsFromClassifier(classifier,training_X,training_Y,testing_X,testing_Y)\n",
    "    prediction_probabilities_for_winning = addPredictionAndClassifierToList(prediction_probabilities_for_winning,classifier,predicted_probabilities_Y)   \n",
    "    \n",
    "training_Y = pd.DataFrame(training_Y.as_matrix(),columns=[\"winningTeam\"])\n",
    "\n",
    "ensemble_training_X = prediction_probabilities_for_winning\n",
    "ensemble_training_Y = training_Y\n",
    "\n",
    "testing_X = testing_data[testing_data.columns[1:len(testing_data.columns)-1]].fillna(0)\n",
    "testing_Y = testing_data[testing_data.columns[-1]]\n",
    "\n",
    "prediction_probabilities_for_winning = pd.DataFrame()\n",
    "\n",
    "for classifier in classifiers:\n",
    "    predicted_Y, predicted_probabilities_Y = getPredictionsFromClassifier(classifier,training_X,training_Y,testing_X,testing_Y)\n",
    "    prediction_probabilities_for_winning = addPredictionAndClassifierToList(prediction_probabilities_for_winning,classifier,predicted_probabilities_Y)   \n",
    "    \n",
    "ensemble_testing_X = prediction_probabilities_for_winning\n",
    "ensemble_testing_Y = testing_Y    \n",
    "\n",
    "ensemble_classifier = LogisticRegression()\n",
    "ensemble_classifier.fit(ensemble_training_X,np.ravel(ensemble_training_Y))\n",
    "\n",
    "y_pred = ensemble_classifier.predict(ensemble_testing_X)\n",
    "print(classification_report(y_pred,ensemble_testing_Y))\n",
    "print(accuracy_score(y_pred,ensemble_testing_Y))\n",
    "\n",
    "y_pred_prob = ensemble_classifier.predict_proba(ensemble_testing_X)[:,0]"
   ]
  },
  {
   "cell_type": "code",
   "execution_count": 36,
   "metadata": {
    "collapsed": false
   },
   "outputs": [
    {
     "data": {
      "text/plain": [
       "(67,)"
      ]
     },
     "execution_count": 36,
     "metadata": {},
     "output_type": "execute_result"
    }
   ],
   "source": [
    "y_pred_prob.shape"
   ]
  },
  {
   "cell_type": "code",
   "execution_count": 39,
   "metadata": {
    "collapsed": false
   },
   "outputs": [
    {
     "data": {
      "text/plain": [
       "Index([u'season', u'wscore', u'wfgm', u'wfga', u'wfgm3', u'wfga3', u'wftm', u'wfta', u'wor', u'wdr', u'wast', u'wto', u'wstl', u'wblk', u'wpf', u'lscore', u'lfgm', u'lfga', u'lfgm3', u'lfga3', u'lftm', u'lfta', u'lor', u'ldr', u'last', u'lto', u'lstl', u'lblk', u'lpf', u'winningTeam'], dtype='object')"
      ]
     },
     "execution_count": 39,
     "metadata": {},
     "output_type": "execute_result"
    }
   ],
   "source": [
    "testing_data.columns"
   ]
  },
  {
   "cell_type": "code",
   "execution_count": 55,
   "metadata": {
    "collapsed": false
   },
   "outputs": [],
   "source": [
    "# Dataset Partitioning\n",
    "dataset = pd.read_csv(ROOT_DIR+\"data/structured/training_data_match_statistics.csv\")\n",
    "dataset = dataset.drop(dataset.columns[0],axis=1)\n",
    "submission = pd.read_csv(ROOT_DIR+\"data/structured/prediction_probabilities_for_matchups.csv\")\n",
    "\n",
    "target_season = 2014\n",
    "testing_data = dataset[dataset.season == target_season]\n",
    "\n",
    "#Preprocess/Filter Data here\n",
    "startingFeatureIndex = 3\n",
    "\n",
    "testing_Y = testing_data[testing_data.columns[-1]].reset_index().drop(\"index\",axis=1).as_matrix()\n",
    "submission_Y = submission[submission.columns[-1]].reset_index().drop(\"index\",axis=1).as_matrix()\n",
    "0.5 * np.ones(testing_Y.shape[0])"
   ]
  },
  {
   "cell_type": "code",
   "execution_count": 143,
   "metadata": {
    "collapsed": false
   },
   "outputs": [],
   "source": [
    "testing_Y = testing_data[testing_data.columns[-1]].reset_index().drop(\"index\",axis=1).as_matrix()\n",
    "submission_Y = submission[submission.columns[-1]].reset_index().drop(\"index\",axis=1).as_matrix()\n",
    "bench_Y = 0.5 * np.ones(testing_Y.shape[0])"
   ]
  },
  {
   "cell_type": "code",
   "execution_count": 145,
   "metadata": {
    "collapsed": false
   },
   "outputs": [
    {
     "data": {
      "text/plain": [
       "array([[ 0.95929326]])"
      ]
     },
     "execution_count": 145,
     "metadata": {},
     "output_type": "execute_result"
    }
   ],
   "source": [
    "y = testing_Y\n",
    "log_y_hat = np.log(submission_Y)\n",
    "_1_y = 1 - testing_Y\n",
    "_log_1_y_hat = np.log(1 - submission_Y)\n",
    "logLoss = (-0.9/y.shape[0]) * (np.dot(y.transpose(),log_y_hat) + np.dot(_1_y.transpose(),_log_1_y_hat))\n",
    "logLoss"
   ]
  },
  {
   "cell_type": "code",
   "execution_count": 131,
   "metadata": {
    "collapsed": false
   },
   "outputs": [
    {
     "data": {
      "text/plain": [
       "array([ 0.69314718])"
      ]
     },
     "execution_count": 131,
     "metadata": {},
     "output_type": "execute_result"
    }
   ],
   "source": [
    "submission_Y = bench_Y\n",
    "log_y_hat = np.log(submission_Y)\n",
    "_log_1_y_hat = np.log(1 - submission_Y)\n",
    "logLoss = (-1.0/y.shape[0]) * (np.dot(y.transpose(),log_y_hat) + np.dot(_1_y.transpose(),_log_1_y_hat))\n",
    "logLoss"
   ]
  },
  {
   "cell_type": "code",
   "execution_count": null,
   "metadata": {
    "collapsed": false
   },
   "outputs": [],
   "source": []
  },
  {
   "cell_type": "code",
   "execution_count": 102,
   "metadata": {
    "collapsed": false
   },
   "outputs": [
    {
     "data": {
      "text/plain": [
       "array([[-26.77149069]])"
      ]
     },
     "execution_count": 102,
     "metadata": {},
     "output_type": "execute_result"
    }
   ],
   "source": [
    "np.dot(y,log_y_hat)"
   ]
  },
  {
   "cell_type": "code",
   "execution_count": null,
   "metadata": {
    "collapsed": true
   },
   "outputs": [],
   "source": []
  }
 ],
 "metadata": {
  "kernelspec": {
   "display_name": "Python 2",
   "language": "python",
   "name": "python2"
  },
  "language_info": {
   "codemirror_mode": {
    "name": "ipython",
    "version": 2
   },
   "file_extension": ".py",
   "mimetype": "text/x-python",
   "name": "python",
   "nbconvert_exporter": "python",
   "pygments_lexer": "ipython2",
   "version": "2.7.9"
  }
 },
 "nbformat": 4,
 "nbformat_minor": 0
}
